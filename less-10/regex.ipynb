{
 "cells": [
  {
   "cell_type": "markdown",
   "metadata": {},
   "source": [
    "# Домашнее задание к лекции \"Регулярные выражения\"\n",
    "\n",
    "Внимание! При реализации всех заданий необходимо использовать именно функционал регулярных выражений для обработки текста."
   ]
  },
  {
   "cell_type": "markdown",
   "metadata": {},
   "source": [
    "## Задание 1\n",
    "\n",
    "Напишите функцию, которая принимает на вход строку и проверяет является ли она валидным транспортным номером (1 буква, 3 цифры, 2 буквы, 2-3 цифры). Обратите внимание, что не все буквы кириллического алфавита используются в транспортных номерах.\n",
    "\n",
    "Если номер валиден, то функция должна возвращать отдельно номер и регион.\n",
    "\n",
    "Примеры работы программы:  \n",
    "\n",
    "1. `car_id = 'A222BC96'`\n",
    "\n",
    "Результат: \n",
    "`Номер A222BС валиден. Регион: 96`\n",
    "\n",
    "2. `car_id = 'АБ22ВВ193'`\n",
    "\n",
    "Результат: \n",
    "`Номер не валиден`"
   ]
  },
  {
   "cell_type": "markdown",
   "metadata": {},
   "source": [
    "## Решение 1"
   ]
  },
  {
   "cell_type": "code",
   "execution_count": 45,
   "metadata": {},
   "outputs": [],
   "source": [
    "import re"
   ]
  },
  {
   "cell_type": "code",
   "execution_count": 46,
   "metadata": {},
   "outputs": [],
   "source": [
    "def is_valid_car_number(car_number):\n",
    "    regex_car_number = r'(^[АВЕКМНОРСТУХ]\\d{3}(?<!000)[АВЕКМНОРСТУХ]{2})(\\d{2,3})$'\n",
    "    cn_match = re.match(regex_car_number, car_number)\n",
    "    if cn_match:\n",
    "        return f'Номер {cn_match[1]} валиден. Регион: {cn_match[2]}'\n",
    "    else:\n",
    "        return 'Номер не валиден'"
   ]
  },
  {
   "cell_type": "markdown",
   "metadata": {},
   "source": [
    "### Проверим работу функции:"
   ]
  },
  {
   "cell_type": "code",
   "execution_count": 51,
   "metadata": {},
   "outputs": [
    {
     "name": "stdout",
     "output_type": "stream",
     "text": [
      "О810ХР05\n",
      "Номер О810ХР валиден. Регион: 05\n"
     ]
    }
   ],
   "source": [
    "print(is_valid_car_number(input()))"
   ]
  },
  {
   "cell_type": "markdown",
   "metadata": {},
   "source": [
    "## Задание 2\n",
    "\n",
    "Напишите функцию, которая будет удалять все последовательные повторы слов из заданной строки при помощи регулярных выражений.\n",
    "\n",
    "Пример работы программы:  \n",
    "\n",
    "`some_string = 'Напишите функцию функцию, которая будет будет будет будет удалять все все все все последовательные повторы слов из из из из заданной строки строки при помощи регулярных выражений.'`\n",
    "\n",
    "Результат:  \n",
    "`Напишите функцию, которая будет удалять все последовательные повторы слов из заданной строки при помощи регулярных выражений.`"
   ]
  },
  {
   "cell_type": "markdown",
   "metadata": {},
   "source": [
    "## Решение 2"
   ]
  },
  {
   "cell_type": "code",
   "execution_count": 72,
   "metadata": {},
   "outputs": [],
   "source": [
    "some_string = 'Напишите функцию функцию функцию, которая будет будет будет будет удалять все все все все последовательные повторы слов из из из из заданной строки строки при помощи регулярных выражений.'"
   ]
  },
  {
   "cell_type": "code",
   "execution_count": 73,
   "metadata": {},
   "outputs": [],
   "source": [
    "def non_double_words(st):\n",
    "    return re.sub(r'\\b(\\w+)(?:\\s+\\1\\b)+', r'\\1', some_string)"
   ]
  },
  {
   "cell_type": "code",
   "execution_count": 74,
   "metadata": {},
   "outputs": [
    {
     "name": "stdout",
     "output_type": "stream",
     "text": [
      "Напишите функцию, которая будет удалять все последовательные повторы слов из заданной строки при помощи регулярных выражений.\n"
     ]
    }
   ],
   "source": [
    "print(non_double_words(some_string))"
   ]
  },
  {
   "cell_type": "markdown",
   "metadata": {},
   "source": [
    "## Задание 3\n",
    "\n",
    "Напишите функцию, которая будет возвращать акроним по переданной в нее строке со словами.\n",
    "\n",
    "Примеры работы программы:  \n",
    "\n",
    "1. `some_words = 'Информационные технологии'`\n",
    "\n",
    "Результат: \n",
    "`ИТ`\n",
    "\n",
    "2. `some_words = 'Near Field Communication'`\n",
    "\n",
    "Результат: \n",
    "`NFC`"
   ]
  },
  {
   "cell_type": "markdown",
   "metadata": {},
   "source": [
    "## Решение 3"
   ]
  },
  {
   "cell_type": "code",
   "execution_count": 96,
   "metadata": {},
   "outputs": [],
   "source": [
    "#some_words = input()\n",
    "some_words = 'Информационные технологии'"
   ]
  },
  {
   "cell_type": "code",
   "execution_count": 97,
   "metadata": {},
   "outputs": [],
   "source": [
    "def acronim(sw):\n",
    "    return ''.join(re.findall(r'\\b\\w', sw)).upper()"
   ]
  },
  {
   "cell_type": "code",
   "execution_count": 98,
   "metadata": {},
   "outputs": [
    {
     "name": "stdout",
     "output_type": "stream",
     "text": [
      "ИТ\n"
     ]
    }
   ],
   "source": [
    "print(acronim(some_words))"
   ]
  },
  {
   "cell_type": "markdown",
   "metadata": {},
   "source": [
    "## Задание 4\n",
    "\n",
    "Напишите функцию, которая будет принимать на вход список email-адресов и выводить их распределение по доменным зонам.\n",
    "\n",
    "Пример работы программы:  \n",
    "\n",
    "`emails = ['test@gmail.com', 'xyz@test.in', 'test@ya.ru', 'xyz@mail.ru', 'xyz@ya.ru', 'xyz@gmail.com']`\n",
    "\n",
    "Результат: \n",
    "```\n",
    "gmail.com: 2\n",
    "test.in: 1 \n",
    "ya.ru: 2 \n",
    "mail.ru: 1\n",
    "```"
   ]
  },
  {
   "cell_type": "markdown",
   "metadata": {},
   "source": [
    "## Решение 4"
   ]
  },
  {
   "cell_type": "code",
   "execution_count": 100,
   "metadata": {},
   "outputs": [],
   "source": [
    "emails = ['test@gmail.com', 'xyz@test.in', 'test@ya.ru', 'xyz@mail.ru', 'xyz@ya.ru', 'xyz@gmail.com']"
   ]
  },
  {
   "cell_type": "code",
   "execution_count": 125,
   "metadata": {},
   "outputs": [],
   "source": [
    "def get_domens_rate(lst_):\n",
    "    temp_dict = {}\n",
    "    regex_email = r'\\w+\\.\\w{2,3}'\n",
    "    for e in lst_:\n",
    "        if re.findall(regex_email, e):\n",
    "            find_ = re.findall(regex_email, e)[0]\n",
    "            temp_dict[find_] = temp_dict.get(find_, 0) + 1\n",
    "    \n",
    "    for e, r in temp_dict.items():\n",
    "        print(e + ':', r)"
   ]
  },
  {
   "cell_type": "code",
   "execution_count": 126,
   "metadata": {},
   "outputs": [
    {
     "name": "stdout",
     "output_type": "stream",
     "text": [
      "gmail.com: 2\n",
      "test.in: 1\n",
      "ya.ru: 2\n",
      "mail.ru: 1\n"
     ]
    }
   ],
   "source": [
    "get_domens_rate(emails)"
   ]
  },
  {
   "cell_type": "markdown",
   "metadata": {},
   "source": [
    "## Задание 5 (необязательное)\n",
    "\n",
    "Напишите функцию, которая будет подсчитывать сколько слов начинается на гласные, а сколько на согласные буквы в тексте (текст может быть написан как с использованием букв кириллицы, так и латиницы).\n",
    "\n",
    "Пример работы программы:  \n",
    "\n",
    "`some_text = 'Эталонной реализацией Python является интерпретатор CPython, поддерживающий большинство активно используемых платформ. Он распространяется под свободной лицензией Python Software Foundation License, позволяющей использовать его без ограничений в любых приложениях, включая проприетарные.'`\n",
    "\n",
    "Результат: \n",
    "```\n",
    "Слов на гласные буквы: 9\n",
    "Слов на согласные буквы: 21 \n",
    "```"
   ]
  },
  {
   "cell_type": "markdown",
   "metadata": {},
   "source": [
    "## Решение 5\n",
    "\n",
    "Воспользуюсь при решении, написанной ранее функцией `acronim()`"
   ]
  },
  {
   "cell_type": "code",
   "execution_count": 127,
   "metadata": {},
   "outputs": [],
   "source": [
    "some_text = 'Эталонной реализацией Python является интерпретатор CPython, поддерживающий большинство активно используемых платформ. Он распространяется под свободной лицензией Python Software Foundation License, позволяющей использовать его без ограничений в любых приложениях, включая проприетарные.'"
   ]
  },
  {
   "cell_type": "code",
   "execution_count": 134,
   "metadata": {},
   "outputs": [],
   "source": [
    "def sg_letters(st):\n",
    "    vowel_letters_base = 'ёуеыаоэяиюeyuioa'\n",
    "    temp_str = acronim(st).lower()\n",
    "    \n",
    "    vowel_letters = 0\n",
    "    consonant_letters = 0\n",
    "    \n",
    "    for letter in temp_str:\n",
    "        if letter in vowel_letters_base:\n",
    "            vowel_letters += 1\n",
    "        else:\n",
    "            consonant_letters += 1\n",
    "    \n",
    "    print('Слов на гласные буквы:', vowel_letters)\n",
    "    print('Слов на согласные буквы:', consonant_letters)"
   ]
  },
  {
   "cell_type": "code",
   "execution_count": 135,
   "metadata": {},
   "outputs": [
    {
     "name": "stdout",
     "output_type": "stream",
     "text": [
      "Слов на гласные буквы: 9\n",
      "Слов на согласные буквы: 21\n"
     ]
    }
   ],
   "source": [
    "sg_letters(some_text)"
   ]
  },
  {
   "cell_type": "markdown",
   "metadata": {},
   "source": [
    "## Задание 6 (необязательное)\n",
    "Напишите функцию, которая будет проверять номер сотового телефона на валидность (только для российского формата), если он валиден, то переводить его в формат:   \n",
    "+7-xxx-xxx-xx-xx  \n",
    "Постарайтесь предусмотреть как можно больше адекватных форматов изначального ввода номера.\n",
    "Примеры работы программы:  \n",
    "\n",
    "1. `phone = '+7 955 555-55-55'`\n",
    "\n",
    "Результат: \n",
    "`+7-950-555-55-55`\n",
    "\n",
    "2. `phone = '8(955)555-55-55'`\n",
    "\n",
    "Результат: \n",
    "`+7-950-555-55-55`\n",
    "\n",
    "3. `phone = '+7 955 555 55 55'`\n",
    "\n",
    "Результат: \n",
    "`+7-950-555-55-55`\n",
    "\n",
    "4. `phone = '7(955) 555-55-55'`\n",
    "\n",
    "Результат: \n",
    "`+7-950-555-55-55`\n",
    "\n",
    "5. `phone = '423-555-55-5555'`\n",
    "\n",
    "Результат: \n",
    "`Номер не валиден`\n",
    "\n",
    "6. `phone = '123-456-789'`\n",
    "\n",
    "Результат: \n",
    "`Номер не валиден`"
   ]
  },
  {
   "cell_type": "markdown",
   "metadata": {},
   "source": [
    "## Примечание в тему\n",
    "\n",
    "Буквально на днях в рамках занятия с учениками решали аналогичную задачу - только там говорили в контексте использования исключений. Первое решение без регулярных выражений! "
   ]
  },
  {
   "cell_type": "code",
   "execution_count": null,
   "metadata": {},
   "outputs": [],
   "source": [
    "phone_number = ''.join(input().split())\n",
    "\n",
    "\n",
    "def is_phone_number(ph_):\n",
    "    if not (ph_[1:].isdigit() and len(ph_[1:]) == 11):\n",
    "        raise ValueError(\"Неверный формат номера\")\n",
    "    return ph_\n",
    "\n",
    "\n",
    "def is_phone_city(ph_):\n",
    "    if not (ph_[:1] == '8' or ph_[:2] == '+7'):\n",
    "        raise ValueError(\"Неверный код города номера\")\n",
    "    return '+7' + ph_[1:] if ph_[:1] == '8' else ph_\n",
    "\n",
    "\n",
    "def is_phone_brackets(ph_):\n",
    "    if '(' in ph_ or ')' in ph_:\n",
    "        if not ((ph_.count('(') == 1 and ph_.count(')') == 1) and (ph_.index('(') < ph_.index(')'))):\n",
    "            raise ValueError(\"Что-то не так со скобками\")\n",
    "    return ''.join(''.join(ph_.split('(')).split(')'))\n",
    "\n",
    "\n",
    "def is_phone_defis(ph_):\n",
    "    if ph_[0] == '-' or ph_[-1] == '-' or '--' in ph_:\n",
    "        raise ValueError(\"Что-то не так с дефисами\")\n",
    "    return ''.join(ph_.split('-'))\n",
    "\n",
    "\n",
    "try:\n",
    "    phone_number = is_phone_defis(phone_number)\n",
    "    phone_number = is_phone_brackets(phone_number)\n",
    "    phone_number = is_phone_city(phone_number)\n",
    "    phone_number = is_phone_number(phone_number)\n",
    "    print(phone_number)\n",
    "\n",
    "except ValueError as e:\n",
    "    print(f\"Ошибка! {e}\")\n"
   ]
  },
  {
   "cell_type": "markdown",
   "metadata": {},
   "source": [
    "## Решение 6\n",
    "\n",
    "Думать о самом регулярном выражении не стал - как упомянули в лекции - все есть в сети. Идеально подходящего для задачи не нашел, чуть пришлось доработать."
   ]
  },
  {
   "cell_type": "code",
   "execution_count": 181,
   "metadata": {},
   "outputs": [],
   "source": [
    "phonebook = ['+7 955 555-55-55', '8(955)555-55-55', '+7 955 555 55 55', '7(955) 555-55-55', '423-555-55-5555', '123-456-789']"
   ]
  },
  {
   "cell_type": "code",
   "execution_count": 182,
   "metadata": {},
   "outputs": [],
   "source": [
    "def phn_valid(phn_):\n",
    "    regex_phone = r'^((7|8|\\+7)[\\- ]?){1}(\\(?\\d{3}\\)?[\\- ]?)?[\\d\\- ]{7,10}$'\n",
    "    \n",
    "    if re.findall(regex_phone, phn_):\n",
    "        new_pn = ''.join(''.join(''.join(''.join(phn_.split()).split('-')).split('(')).split(')'))\n",
    "        \n",
    "        if phn_[:1] == '8' or phn_[:1] == '7':\n",
    "            new_pn = '+7' + new_pn[1:]\n",
    "        \n",
    "        return f'+7-{new_pn[2:5]}-{new_pn[5:8]}-{new_pn[8:10]}-{new_pn[10:]}'\n",
    "    else:\n",
    "        return 'Номер не валиден'"
   ]
  },
  {
   "cell_type": "code",
   "execution_count": 183,
   "metadata": {},
   "outputs": [
    {
     "name": "stdout",
     "output_type": "stream",
     "text": [
      "+7-955-555-55-55\n",
      "+7-955-555-55-55\n",
      "+7-955-555-55-55\n",
      "+7-955-555-55-55\n",
      "Номер не валиден\n",
      "Номер не валиден\n"
     ]
    }
   ],
   "source": [
    "for num in phonebook:\n",
    "    print(phn_valid(num))"
   ]
  },
  {
   "cell_type": "code",
   "execution_count": 185,
   "metadata": {},
   "outputs": [
    {
     "name": "stdout",
     "output_type": "stream",
     "text": [
      "+7(903)423 70-28\n",
      "+7-903-423-70-28\n"
     ]
    }
   ],
   "source": [
    "print(phn_valid(input()))"
   ]
  },
  {
   "cell_type": "markdown",
   "metadata": {},
   "source": [
    "#### ПРИМЕЧАНИЕ\n",
    "Домашнее задание сдается ссылкой на репозиторий [GitHub](https://github.com/).\n",
    "Не сможем проверить или помочь, если вы пришлете:\n",
    "- файлы;\n",
    "- архивы;\n",
    "- скриншоты кода.\n",
    "\n",
    "Все обсуждения и консультации по выполнению домашнего задания ведутся только на соответствующем канале в slack.\n",
    "\n",
    "##### Как правильно задавать вопросы аспирантам, преподавателям и коллегам\n",
    "Прежде чем задать вопрос, попробуйте найти ответ в интернете. Навык самостоятельного поиска информации — один из важнейших. Каждый практикующий специалист любого уровня делает это ежедневно.\n",
    "\n",
    "Сформулируйте вопрос по алгоритму:  \n",
    "1) Что я делаю?  \n",
    "2) Какого результата я ожидаю?  \n",
    "3) Как фактический результат отличается от ожидаемого?  \n",
    "4) Что я уже попробовал сделать, чтобы исправить проблему?  \n",
    "\n",
    "По возможности прикрепите к вопросу скриншоты либо ссылки на код. Не выкладывайте все решение, оставляйте только проблемный и воспроизводимый участок кода."
   ]
  }
 ],
 "metadata": {
  "kernelspec": {
   "display_name": "Python 3",
   "language": "python",
   "name": "python3"
  },
  "language_info": {
   "codemirror_mode": {
    "name": "ipython",
    "version": 3
   },
   "file_extension": ".py",
   "mimetype": "text/x-python",
   "name": "python",
   "nbconvert_exporter": "python",
   "pygments_lexer": "ipython3",
   "version": "3.7.6"
  }
 },
 "nbformat": 4,
 "nbformat_minor": 2
}
