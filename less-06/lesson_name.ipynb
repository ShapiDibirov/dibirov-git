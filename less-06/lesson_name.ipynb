{
 "cells": [
  {
   "cell_type": "markdown",
   "metadata": {},
   "source": [
    "Вы работаете секретарем и вам постоянно приходят различные документы. Вы должны быть очень внимательны, чтобы не потерять ни один документ. Каталог документов хранится в следующем виде:"
   ]
  },
  {
   "cell_type": "code",
   "execution_count": 1,
   "metadata": {},
   "outputs": [],
   "source": [
    "documents = [\n",
    "    {'type': 'passport', 'number': '2207 876234', 'name': 'Василий Гупкин'},\n",
    "    {'type': 'invoice', 'number': '11-2', 'name': 'Геннадий Покемонов'},\n",
    "    {'type': 'insurance', 'number': '10006', 'name': 'Аристарх Павлов'}\n",
    "]"
   ]
  },
  {
   "cell_type": "markdown",
   "metadata": {},
   "source": [
    "Перечень полок, на которых находятся документы хранится в следующем виде:"
   ]
  },
  {
   "cell_type": "code",
   "execution_count": 2,
   "metadata": {},
   "outputs": [],
   "source": [
    "directories = {\n",
    "    '1': ['2207 876234', '11-2'],\n",
    "    '2': ['10006'],\n",
    "    '3': []\n",
    "}"
   ]
  },
  {
   "cell_type": "markdown",
   "metadata": {},
   "source": [
    "Необходимо реализовать пользовательские команды (внимание! это не название функций, которые должны быть выразительными, а команды, которые вводит пользователь, чтобы получить необходимый результат):\n",
    "  \n",
    "- p – people – команда, которая спросит номер документа и выведет имя человека, которому он принадлежит;  \n",
    "- s – shelf – команда, которая спросит номер документа и выведет номер полки, на которой он находится  \n",
    "*Правильно обработайте ситуации, когда пользователь будет вводить несуществующий документ*.\n",
    "- l – list – команда, которая выведет список всех документов в формате   \n",
    "**passport \"2207 876234\" \"Василий Гупкин\"**  \n",
    "- as – add shelf – команда, которая спросит номер новой полки и добавит ее в перечень. *Предусмотрите случай, когда пользователь добавляет полку, которая уже существует*.\n",
    "- d – delete – команда, которая спросит номер документа и удалит его из каталога и из перечня полок. *Предусмотрите сценарий, когда пользователь вводит несуществующий документ*;  \n",
    "- m – move – команда, которая спросит номер документа и целевую полку и переместит его с текущей полки на целевую. *Корректно обработайте кейсы, когда пользователь пытается переместить несуществующий документ или переместить документ на несуществующую полку*;  \n",
    "- a – add – команда, которая добавит новый документ в каталог и в перечень полок, спросив его номер, тип, имя владельца и номер полки, на котором он будет храниться. *Корректно обработайте ситуацию, когда пользователь будет пытаться добавить документ на несуществующую полку*."
   ]
  },
  {
   "cell_type": "markdown",
   "metadata": {},
   "source": [
    "### Небольшой комментарий по решению\n",
    "\n",
    "Поскольку в условии задачи есть некий простор для \"вольностей\", то эти вольности присутствуют. \n",
    "\n",
    "Понятно, что \"лишние\" слова могут быть безболезненно из кода исключены.\n",
    "\n",
    "### Второй комментарий\n",
    "\n",
    "Я делал решение не спеша, последовательно. К третьей команде я понял, что можно было бы создать допонительные подпрограммы, которые упростят код в основных разрабатываемых подпрограммах. Я даже создал две такие. Но переделывать созданные ранее не стал. Учту в решениях последующих ДЗ.\n"
   ]
  },
  {
   "cell_type": "code",
   "execution_count": 3,
   "metadata": {},
   "outputs": [],
   "source": [
    "def doc_in_documents(new_doc_number):\n",
    "    for doc in documents:\n",
    "        if doc['number'] == new_doc_number:\n",
    "            return True\n",
    "    else:\n",
    "        return False"
   ]
  },
  {
   "cell_type": "code",
   "execution_count": 4,
   "metadata": {},
   "outputs": [],
   "source": [
    "def print_head(str):\n",
    "    len_str = len(str) + 4\n",
    "    print('='*len_str, f'\\n  {str} \\n', '='*len_str, sep='')"
   ]
  },
  {
   "cell_type": "code",
   "execution_count": 5,
   "metadata": {},
   "outputs": [],
   "source": [
    "def main_menu():\n",
    "    print_head('          Список доступных команд!         ')\n",
    "    print('|  p  |   выведет имя человека по документу   |')\n",
    "    print('|  s  |   выведет номер полки  по документу   |')\n",
    "    print('|  l  |   выведет список всех документов      |')\n",
    "    print('|  as |   добавить новую полку                |')\n",
    "    print('|  d  |   удалить все записи по документу     |')\n",
    "    print('|  m  |   переложить документ на другую полку |')\n",
    "    print('|  a  |   добавить новый документ к имеющимся |')\n",
    "    print_head('  menu - Показать это окно | quit - Выход  ')"
   ]
  },
  {
   "cell_type": "code",
   "execution_count": 6,
   "metadata": {},
   "outputs": [],
   "source": [
    "def command_add():\n",
    "    print_head('Добавляем новый документ!')\n",
    "    new_doc_number = input('Введите номер добавляемого документа: ')\n",
    "    if doc_in_documents(new_doc_number):\n",
    "        print('К сожалению или счастью такой документ уже имеется.')\n",
    "        return\n",
    "    else:\n",
    "        new_doc_type = input('OK! Теперь нужен тип этого документа: ')\n",
    "        new_doc_name = input('и Имя владельца этого документа: ')\n",
    "        new_doc_shelf = input('Номер полки, где будет храниться этот документ: ')\n",
    "        \n",
    "        if new_doc_shelf not in directories:\n",
    "            print('Спешу сообщить, что у нас нет полки с таким номером.')\n",
    "            print('Но мы давно знакомы, и я могу ее создать для тебя!')\n",
    "            while True:\n",
    "                solution = input('Создать? [ y / n ] ')\n",
    "                if solution == 'y':\n",
    "                    directories[new_doc_shelf] = []\n",
    "                    break\n",
    "                elif solution == 'n':\n",
    "                    print('Я так понимаю, что вы еще подумаете.')\n",
    "                    return\n",
    "                else:\n",
    "                    continue\n",
    "        \n",
    "        documents.append({'type': new_doc_type, 'number': new_doc_number, 'name': new_doc_name},)\n",
    "        directories[new_doc_shelf].append(new_doc_number)   \n",
    "        print('Документ добавлен.')"
   ]
  },
  {
   "cell_type": "code",
   "execution_count": 7,
   "metadata": {},
   "outputs": [],
   "source": [
    "def command_move():\n",
    "    print_head('Перемещаем на целевую полку!')\n",
    "    find_doc_number = input('Введите номер документа, который перемещаем: ')\n",
    "    find_shelf_number = input('OK! Теперь нужен номер полки для этого документа: ')\n",
    "    \n",
    "    temp_direct = None\n",
    "    for direct in directories:\n",
    "        if find_doc_number in directories[direct]:\n",
    "            directories[direct].remove(find_doc_number)\n",
    "            temp_direct = direct\n",
    "            break\n",
    "    else:\n",
    "        print('Документ с указанным номером не был обнаружен!')\n",
    "        return\n",
    "    \n",
    "    if find_shelf_number in directories:\n",
    "        directories[find_shelf_number].append(find_doc_number)\n",
    "    else:\n",
    "        directories[temp_direct].append(find_doc_number)\n",
    "        print('Мда! Полочки-то нужной нет! Вернем пока документы на место.')   "
   ]
  },
  {
   "cell_type": "code",
   "execution_count": 8,
   "metadata": {},
   "outputs": [],
   "source": [
    "def command_delete():\n",
    "    print_head('Удаление документа!')\n",
    "    find_doc_number = input('Введите номер документа, записи о котором вы хотите удалить: ')\n",
    "    for doc in documents:\n",
    "        if doc['number'] == find_doc_number:\n",
    "            documents.remove(doc)\n",
    "            for direct in directories:\n",
    "                if find_doc_number in directories[direct]:\n",
    "                    directories[direct].remove(find_doc_number)\n",
    "                    break            \n",
    "            print('Документ с указанным номером был удален из каталога и убран с полки!')\n",
    "            break\n",
    "    else:\n",
    "        print('Документов, связанных с этим номером, у нас нет.')"
   ]
  },
  {
   "cell_type": "code",
   "execution_count": 9,
   "metadata": {},
   "outputs": [],
   "source": [
    "def command_add_shelf():\n",
    "    print_head('Добавляем новую полку!')\n",
    "    create_shelf_number = input('Введите номер новой полки \\n(не умничай - просто числовой номер!): ')\n",
    "    while True:\n",
    "        if create_shelf_number == '':\n",
    "            create_shelf_number = input('Упс! Что-то пошло не так. Введите номер новой полки: ')\n",
    "            continue\n",
    "        if create_shelf_number in directories:\n",
    "            print('Такая полка уже существует!')\n",
    "        else:\n",
    "            directories[create_shelf_number] = []\n",
    "            print('Новая полка успешно добавлена. Поздравляю!')\n",
    "        break"
   ]
  },
  {
   "cell_type": "code",
   "execution_count": 10,
   "metadata": {},
   "outputs": [],
   "source": [
    "def command_people():\n",
    "    print_head('Поиск человека по документу!')\n",
    "    find_doc_number = input('Введите номер документа \\n(его формат вы должны были увидеть в позавчерашнем сне!): ')\n",
    "    get_name = ''\n",
    "    for doc in documents:\n",
    "        if doc['number'] == find_doc_number:\n",
    "            get_name = doc['name']\n",
    "            break\n",
    "    else:\n",
    "        get_name = 'В нашей базе нет записей, связанных с таким номером! Сожалею(('\n",
    "    print(get_name)"
   ]
  },
  {
   "cell_type": "code",
   "execution_count": 11,
   "metadata": {},
   "outputs": [],
   "source": [
    "def command_list():\n",
    "    print_head('Выводим список всех документов!')\n",
    "    for doc in documents:\n",
    "        gen_out_str = doc['type'] + ' \"' + doc['number'] + '\" \"' + doc['name'] + '\"'\n",
    "        print(gen_out_str)"
   ]
  },
  {
   "cell_type": "code",
   "execution_count": 12,
   "metadata": {},
   "outputs": [],
   "source": [
    "def command_shelf():\n",
    "    print_head('Поиск нужной полки с документом!')\n",
    "    find_doc_number = input('Введите номер документа \\n(ничего оригинального тут не смог придумать!): ')\n",
    "    get_direct = ''\n",
    "    for direct in directories:\n",
    "        if find_doc_number in directories[direct]:\n",
    "            get_direct = 'Итак! Поздравляю! Документы с вашим номером на полке №' + direct\n",
    "            break\n",
    "    else:\n",
    "        get_direct = 'В нашей базе нет записей, связанных с таким номером! Но не отчаивайтесь(('\n",
    "    print(get_direct)"
   ]
  },
  {
   "cell_type": "code",
   "execution_count": 13,
   "metadata": {},
   "outputs": [],
   "source": [
    "def main():\n",
    "    main_menu()\n",
    "    while True:\n",
    "        command = input('>>> ')\n",
    "        if command == 'p':\n",
    "            command_people()\n",
    "        elif command == 's':\n",
    "            command_shelf()\n",
    "        elif command == 'l':\n",
    "            command_list()\n",
    "        elif command == 'as':\n",
    "            command_add_shelf()\n",
    "        elif command == 'd':\n",
    "            command_delete()\n",
    "        elif command == 'm':\n",
    "            command_move()\n",
    "        elif command == 'a':\n",
    "            command_add\n",
    "        elif command == 'menu':\n",
    "            main_menu()\n",
    "        elif command == 'quit':\n",
    "            break\n",
    "        else:\n",
    "            print('Error')"
   ]
  },
  {
   "cell_type": "code",
   "execution_count": null,
   "metadata": {},
   "outputs": [],
   "source": [
    "main()"
   ]
  },
  {
   "cell_type": "code",
   "execution_count": null,
   "metadata": {},
   "outputs": [],
   "source": []
  }
 ],
 "metadata": {
  "kernelspec": {
   "display_name": "Python 3",
   "language": "python",
   "name": "python3"
  },
  "language_info": {
   "codemirror_mode": {
    "name": "ipython",
    "version": 3
   },
   "file_extension": ".py",
   "mimetype": "text/x-python",
   "name": "python",
   "nbconvert_exporter": "python",
   "pygments_lexer": "ipython3",
   "version": "3.7.6"
  }
 },
 "nbformat": 4,
 "nbformat_minor": 2
}
